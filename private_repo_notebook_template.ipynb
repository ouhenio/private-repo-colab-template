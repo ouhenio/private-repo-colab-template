{
  "nbformat": 4,
  "nbformat_minor": 0,
  "metadata": {
    "colab": {
      "name": "private-repo-notebook-template.ipynb",
      "provenance": [],
      "authorship_tag": "ABX9TyN+h41ldT9I+NU6VcMR4nOx",
      "include_colab_link": true
    },
    "kernelspec": {
      "name": "python3",
      "display_name": "Python 3"
    },
    "language_info": {
      "name": "python"
    }
  },
  "cells": [
    {
      "cell_type": "markdown",
      "metadata": {
        "id": "view-in-github",
        "colab_type": "text"
      },
      "source": [
        "<a href=\"https://colab.research.google.com/github/ouhenio/private-repo-colab-template/blob/main/private_repo_notebook_template.ipynb\" target=\"_parent\"><img src=\"https://colab.research.google.com/assets/colab-badge.svg\" alt=\"Open In Colab\"/></a>"
      ]
    },
    {
      "cell_type": "code",
      "metadata": {
        "colab": {
          "base_uri": "https://localhost:8080/"
        },
        "cellView": "form",
        "id": "M4W0z_HueKe1",
        "outputId": "6399222f-dcce-457d-eab1-4115a167fb18"
      },
      "source": [
        "import os\n",
        "import urllib\n",
        "from getpass import getpass\n",
        "\n",
        "username = \"\"#@param {type:\"string\"}\n",
        "repository = \"\"#@param {type:\"string\"}\n",
        "\n",
        "token = getpass('Personal access token: ')\n",
        "repo_name = \"sinegan\"\n",
        "\n",
        "cmd_string = f'git clone https://{token}@github.com/{username}/{repo_name}.git'\n",
        "\n",
        "os.system(cmd_string)\n",
        "cmd_string, token = \"\", \"\" # removing the password from the variable"
      ],
      "execution_count": 3,
      "outputs": [
        {
          "name": "stdout",
          "output_type": "stream",
          "text": [
            "Personal access token: ··········\n"
          ]
        }
      ]
    }
  ]
}